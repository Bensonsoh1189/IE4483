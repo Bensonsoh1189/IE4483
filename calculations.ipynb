{
 "cells": [
  {
   "cell_type": "code",
   "execution_count": 1,
   "metadata": {},
   "outputs": [
    {
     "name": "stdout",
     "output_type": "stream",
     "text": [
      "Updated CSV with 'Wrongly_Classified' column saved to ./predictions_with_errors.csv\n"
     ]
    }
   ],
   "source": [
    "import csv\n",
    "\n",
    "input_csv = './predictions.csv'     # Path to your input CSV\n",
    "output_csv = './predictions_with_errors.csv'  # Path to output CSV with the additional column\n",
    "\n",
    "# Read the input CSV and write to the output with an additional column\n",
    "with open(input_csv, mode='r') as infile, open(output_csv, mode='w', newline='') as outfile:\n",
    "    reader = csv.DictReader(infile)\n",
    "    fieldnames = reader.fieldnames + ['Wrongly_Classified']  # Add new column name\n",
    "    writer = csv.DictWriter(outfile, fieldnames=fieldnames)\n",
    "    \n",
    "    # Write header\n",
    "    writer.writeheader()\n",
    "    \n",
    "    # Process each row\n",
    "    for row in reader:\n",
    "        # Compare Predicted_Class and Actual_Class\n",
    "        row['Wrongly_Classified'] = row['Predicted_Class'] != row['Actual_Class']\n",
    "        \n",
    "        # Write updated row to the output file\n",
    "        writer.writerow(row)\n",
    "\n",
    "print(f\"Updated CSV with 'Wrongly_Classified' column saved to {output_csv}\")\n"
   ]
  }
 ],
 "metadata": {
  "kernelspec": {
   "display_name": "base",
   "language": "python",
   "name": "python3"
  },
  "language_info": {
   "codemirror_mode": {
    "name": "ipython",
    "version": 3
   },
   "file_extension": ".py",
   "mimetype": "text/x-python",
   "name": "python",
   "nbconvert_exporter": "python",
   "pygments_lexer": "ipython3",
   "version": "3.12.3"
  }
 },
 "nbformat": 4,
 "nbformat_minor": 2
}
